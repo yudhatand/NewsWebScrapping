{
 "cells": [
  {
   "cell_type": "markdown",
   "metadata": {},
   "source": [
    "Extract tbh from dataset"
   ]
  },
  {
   "cell_type": "code",
   "execution_count": null,
   "metadata": {},
   "outputs": [],
   "source": [
    "import pandas as pd\n",
    "\n",
    "df = pd.read_csv(\"extract_tg.csv\")\n",
    "\n",
    "# Filter the DataFrame to select rows where the first column contains \"[SALAH]\"\n",
    "salah_data = df[df.iloc[:, 0].str.contains(\"\\[SALAH\\]\", regex=True)]\n",
    "\n",
    "output_file = \"Training_TBH.csv\"\n",
    "salah_data.to_csv(output_file, index=False)"
   ]
  },
  {
   "cell_type": "markdown",
   "metadata": {},
   "source": [
    "clean dataset"
   ]
  },
  {
   "cell_type": "code",
   "execution_count": 25,
   "metadata": {},
   "outputs": [],
   "source": [
    "import csv\n",
    "import re\n",
    "\n",
    "def filter_text(text):\n",
    "    unwanted_texts = ['[KATEGORI]; KONTEN YANG MENYESATKAN', '[KATEGORI]: Konten tiruan', '[KATEGORI]: Konten Yang Dimanipulasi', '[KATEGORI]: Konten dimanipulasi'\n",
    "                      , '[KATEGORI]: KONTEN YANG DIMANIPULASI', '[KATEGORI]: MISLEADING CONTENT/Konten Menyesatkan', '=', '\\t', '\\r', '\\n', 'NARASI:', 'Narasi(Diterjemahkan ke Bahasa Indonesia)'\n",
    "                      , '[NARASI]:', 'Narasi :', '[NARASI]', 'Narasi:', 'NARASI :', 'NARASI', 'PENJELASAN:', '[PENJELASAN]:', 'Penjelasan :', '[PENJELASAN]', 'PENJELASAN', 'PENJELASAN :', '(Lanjutan Narasi)'\n",
    "                      , '[SUMBER]TikTok', '[SUMBER]: TIKTOK', 'Sumber: Facebook', '[SUMBER]:', '[SUMBER]: FACEBOOK', '[SUMBER]Whatsapp', '[SUMBER]: Twitter', '[SUMBER]: Youtube ', '[SUMBER]: INSTAGRAM'\n",
    "                      , '[SUMBER]: X', 'KATEGORI: Satire', 'KATEGORI: konten parodi', '[KATEGORI]: Konten menyesatkan ', '[REFERENSI]:', 'Referensi:  ', 'REFERENSI:(1)    ', '[REFERENSI][1]', '[2]', '(2)'\n",
    "                      , '[KATEGORI]: Konten palsu', '[SUMBER]: YOUTUBE', 'KATEGORI: Konten Parodi', '[KATEGORI]: Konten yang menyesatkan', 'KATEGORI: KONTEN YANG MENYESATKAN', '[KATEGORI]: Koneksi yang salah.'\n",
    "                      , 'Kategori: Konten yang Menyesatkan', 'KATEGORI: Konten menyesatkan ', '[KATEGORI]: Konten yang dimanipulasi', '[KATEGORI]: Konten yang Menyesatkan', '[KATEGORI]: Konten yang Dimanipulasi'\n",
    "                      , '[KATEGORI]Konten yang Menyesatkan', '[KATEGORI]: KONTEN YANG MENYESATKAN YOUTUBE', '[KATEGORI]Parodi/satire', '[Kategori]Konten yang Dimanipulasi', '[KATEGORI]: Konten menyesatkan Youtube '\n",
    "                      , '[KATEGORI]: KONTEN YANG MENYESATKAN FACEBOOK', '[KATEGORI]: Konten Yang Menyesatkan', 'Kategori : Konten yang menyesatkan', 'Kategori: Konten yang Dimanipulasi', '[KATEGORI]: Konten Yang Menyesatkan.'\n",
    "                      , 'KATEGORI: Konten yang Menyesatkan.', 'Kategori: Konteks yang Salah', 'KATEGORI: Konten yang Dimanipulasi', 'Kategori: Konten Menyesatkan', '.[KATEGORI]: Konten menyesatkan Youtube'\n",
    "                      , '[KATEGORI]: KONTEN YANG MENYESATKAN TWITTER', '[KATEGORI]Konten yang dimanipulasi', 'KATEGORI: Konteks yang Salah', 'KATEGORI: Konten yang Menyesatkan', '[KATEGORI}: KONTEN YANG MENYESATKAN FACEBOOK'\n",
    "                      , '[KATEGORI]Konten yang menyesatkan', '[KATEGORI]: KONTEN YANG MENYESATKAN', '[SUMBER] Tiktok', '[SUMBER]Facebook.com', 'SUMBER: Facebook', 'Sumber: Instagram', 'Sumber: YouTube', 'SUMBER: X/Twitter,'\n",
    "                      , 'Sumber: YouTube', 'Sumber: TikTok', 'SUMBER: Facebook', 'Sumber: Twitter', 'SUMBER: Tik Tok', 'KATEGORI: konten yang menyesatkan', 'Sumber: Portal Daring', '[SUMBER]WhatsApp', 'SUMBER: YouTube', '.SUMBER: TikTok,'\n",
    "                      , 'KATEGORI: MISLEADING CONTENT/KONTEN YANG MENYESATKANSUMBER: FACEBOOK', 'KATEGORI: konten yang dimanipulasi', 'Sumber: CNN Indonesia', 'Sumber: ', 'Sumber: seword.com', '[KATEGORI]Konten Menyesatkan[SUMBER]Facebook'\n",
    "                      , 'KATEGORI: Konten Palsu', '[SUMBER]Twitter.com/X', 'KATEGORI: IMPOSTER CONTENT/KONTEN TIRUANSumber WhatsApp', 'KATEGORI: MANIPULATED CONTENT/ KONTEN YANG DIMAPULASISUMBER: TIKTOK', 'KATEGORI: Konten yang menyesatkan   Sumber : '\n",
    "                      , 'TikTok https://ghostarchive.org/archive/4grXA', '. https://ghostarchive.org/archive/mEzpB', '. https://ghostarchive.org/archive/4Js93', '[KATEGORI]: MANIPULATED CONTENT/Konten yang Dimanipulasi WHATSAPP'\n",
    "                      , '[KATEGORI]: Satire/parodi ', '[REFERENSI]', ' [REFERENSI] :']\n",
    "    \n",
    "    filtered_text = text\n",
    "    for unwanted_text in unwanted_texts:\n",
    "        filtered_text = filtered_text.replace(unwanted_text, '')\n",
    "\n",
    "    # Remove multiple spaces\n",
    "    filtered_text = re.sub(' +', ' ', filtered_text)\n",
    "\n",
    "    # Remove links\n",
    "    filtered_text = re.sub(r'http\\S+', '', filtered_text)\n",
    "\n",
    "\n",
    "    return filtered_text.strip()\n",
    "\n",
    "unwanted_strings = ['[SALAH]', \"[SALAH]: \", ': ']\n",
    "\n",
    "def remove_salah_from_title(text):\n",
    "    # Remove unwanted strings from the title\n",
    "    for unwanted_string in unwanted_strings:\n",
    "        text = text.replace(unwanted_string, '')\n",
    "    return text.strip() \n",
    "\n",
    "def filter_csv(input_file, output_file):\n",
    "    with open(input_file, 'r', newline='', encoding='utf-8') as csvfile:\n",
    "        reader = csv.reader(csvfile)\n",
    "        with open(output_file, 'w', newline='', encoding='utf-8') as outfile:\n",
    "            writer = csv.writer(outfile)\n",
    "            for row in reader:\n",
    "                row[0] = remove_salah_from_title(row[0])\n",
    "                row[2] = filter_text(row[2])\n",
    "                writer.writerow(row)\n",
    "\n",
    "input_train = 'Training_TBH.csv'\n",
    "output_train = 'Filtered/output_train.csv'\n",
    "filter_csv(input_train, output_train)\n",
    "\n",
    "input_test = 'fake_test_turnbackhoax.csv'\n",
    "output_test = 'Filtered/output_test.csv'\n",
    "filter_csv(input_test, output_test)"
   ]
  }
 ],
 "metadata": {
  "kernelspec": {
   "display_name": "Python 3",
   "language": "python",
   "name": "python3"
  },
  "language_info": {
   "codemirror_mode": {
    "name": "ipython",
    "version": 3
   },
   "file_extension": ".py",
   "mimetype": "text/x-python",
   "name": "python",
   "nbconvert_exporter": "python",
   "pygments_lexer": "ipython3",
   "version": "3.11.2"
  }
 },
 "nbformat": 4,
 "nbformat_minor": 2
}
