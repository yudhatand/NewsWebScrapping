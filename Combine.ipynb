{
 "cells": [
  {
   "cell_type": "markdown",
   "metadata": {},
   "source": [
    "# Combine Webscrapping Dataset"
   ]
  },
  {
   "cell_type": "markdown",
   "metadata": {},
   "source": [
    "combine train"
   ]
  },
  {
   "cell_type": "code",
   "execution_count": 1,
   "metadata": {},
   "outputs": [],
   "source": [
    "import csv\n",
    "import random\n",
    "\n",
    "def combine_csv_randomly(*csv_paths, output_path):\n",
    "    combined_data = []\n",
    "    headers = None\n",
    "    for csv_path in csv_paths:\n",
    "        with open(csv_path, 'r', newline='', encoding='utf-8') as file:\n",
    "            reader = csv.reader(file)\n",
    "            if headers is None:\n",
    "                headers = next(reader)  \n",
    "            else:\n",
    "                next(reader)  \n",
    "            data = list(reader)\n",
    "            combined_data.extend(data)\n",
    "\n",
    "    random.shuffle(combined_data)\n",
    "\n",
    "    with open(output_path, 'w', newline='', encoding='utf-8') as outfile:\n",
    "        writer = csv.writer(outfile)\n",
    "        writer.writerow(headers)\n",
    "        writer.writerows(combined_data)\n",
    "\n",
    "csv1_path = 'Antara/Cleaned/training_data2.csv'\n",
    "csv2_path = 'Detik/Cleaned/training_data4.csv'\n",
    "csv3_path = 'Kominfo/training_data_kominfo.csv'\n",
    "csv4_path = 'Kompas/Half_Cleaned/training_data1.csv'\n",
    "csv5_path = 'TurnBackHoax/Cleaned/Filtered/output_train.csv'\n",
    "output_path = 'training.csv'\n",
    "combine_csv_randomly(csv1_path, csv2_path, csv3_path, csv4_path, csv5_path, output_path=output_path)\n"
   ]
  },
  {
   "cell_type": "markdown",
   "metadata": {},
   "source": [
    "combine true"
   ]
  },
  {
   "cell_type": "code",
   "execution_count": 2,
   "metadata": {},
   "outputs": [],
   "source": [
    "import csv\n",
    "import random\n",
    "\n",
    "def combine_csv_randomly(*csv_paths, output_path):\n",
    "    combined_data = []\n",
    "    headers = None\n",
    "    for csv_path in csv_paths:\n",
    "        with open(csv_path, 'r', newline='', encoding='utf-8') as file:\n",
    "            reader = csv.reader(file)\n",
    "            if headers is None:\n",
    "                headers = next(reader) \n",
    "            else:\n",
    "                next(reader)\n",
    "            data = list(reader)\n",
    "            combined_data.extend(data)\n",
    "\n",
    "    random.shuffle(combined_data)\n",
    "\n",
    "    with open(output_path, 'w', newline='', encoding='utf-8') as outfile:\n",
    "        writer = csv.writer(outfile)\n",
    "        writer.writerow(headers)\n",
    "        writer.writerows(combined_data)\n",
    "\n",
    "csv1_path = 'Detik/Cleaned/True.csv'\n",
    "csv2_path = 'Kompas/Half_Cleaned/True.csv'\n",
    "output_path = 'True.csv'\n",
    "combine_csv_randomly(csv1_path, csv2_path, output_path=output_path)\n"
   ]
  },
  {
   "cell_type": "markdown",
   "metadata": {},
   "source": [
    "combine false"
   ]
  },
  {
   "cell_type": "code",
   "execution_count": 3,
   "metadata": {},
   "outputs": [],
   "source": [
    "import csv\n",
    "import random\n",
    "\n",
    "def combine_csv_randomly(*csv_paths, output_path):\n",
    "    combined_data = []\n",
    "    headers = None\n",
    "    for csv_path in csv_paths:\n",
    "        with open(csv_path, 'r', newline='', encoding='utf-8') as file:\n",
    "            reader = csv.reader(file)\n",
    "            if headers is None:\n",
    "                headers = next(reader)  \n",
    "            else:\n",
    "                next(reader)  \n",
    "            data = list(reader)\n",
    "            combined_data.extend(data)\n",
    "\n",
    "    random.shuffle(combined_data)\n",
    "\n",
    "    with open(output_path, 'w', newline='', encoding='utf-8') as outfile:\n",
    "        writer = csv.writer(outfile)\n",
    "        writer.writerow(headers)\n",
    "        writer.writerows(combined_data)\n",
    "\n",
    "csv1_path = 'TurnBackHoax/Cleaned/Filtered/output_test.csv'\n",
    "csv2_path = 'Kominfo/Fake.csv'\n",
    "csv3_path = 'Antara/Cleaned/Fake.csv'\n",
    "output_path = 'Fake.csv'\n",
    "combine_csv_randomly(csv1_path, csv2_path, csv3_path, output_path=output_path)"
   ]
  }
 ],
 "metadata": {
  "kernelspec": {
   "display_name": "Python 3",
   "language": "python",
   "name": "python3"
  },
  "language_info": {
   "codemirror_mode": {
    "name": "ipython",
    "version": 3
   },
   "file_extension": ".py",
   "mimetype": "text/x-python",
   "name": "python",
   "nbconvert_exporter": "python",
   "pygments_lexer": "ipython3",
   "version": "3.11.2"
  }
 },
 "nbformat": 4,
 "nbformat_minor": 2
}
